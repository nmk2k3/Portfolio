{
 "cells": [
  {
   "cell_type": "code",
   "execution_count": 1,
   "id": "e62f896c-57c0-4e96-8539-c12a90a6172c",
   "metadata": {},
   "outputs": [],
   "source": [
    "import pandas as pd\n",
    "from sklearn.model_selection import train_test_split"
   ]
  },
  {
   "cell_type": "code",
   "execution_count": 3,
   "id": "4605e822-7202-4be4-b3f6-5f53d70be87f",
   "metadata": {},
   "outputs": [],
   "source": [
    "# Load the dataset\n",
    "data = pd.read_csv('Downloads/uncleandata.csv')"
   ]
  },
  {
   "cell_type": "code",
   "execution_count": 4,
   "id": "50ad6da2-6261-4e49-b286-2410f8daa09a",
   "metadata": {},
   "outputs": [
    {
     "name": "stdout",
     "output_type": "stream",
     "text": [
      "Number of rows: 15099\n",
      "Number of columns: 11\n"
     ]
    }
   ],
   "source": [
    "# Check the number of rows and columns\n",
    "num_rows = data.shape[0]\n",
    "num_columns = data.shape[1]\n",
    "print(\"Number of rows:\", num_rows)\n",
    "print(\"Number of columns:\", num_columns)"
   ]
  },
  {
   "cell_type": "code",
   "execution_count": 5,
   "id": "bf082fcf-5db7-47bc-8c8d-9519f62a94b0",
   "metadata": {},
   "outputs": [
    {
     "name": "stdout",
     "output_type": "stream",
     "text": [
      "Column names: ['satisfaction_level', 'last_evaluation', 'number_project', 'average_montly_hours', 'time_spend_company', 'work_accident', 'left', 'promotion_last_5years', 'is_smoker', 'department', 'salary']\n"
     ]
    }
   ],
   "source": [
    "# Get the column names\n",
    "column_names = data.columns.tolist()\n",
    "print(\"Column names:\", column_names)"
   ]
  },
  {
   "cell_type": "code",
   "execution_count": 6,
   "id": "e2180749-f1ee-430a-86e0-50faf94d8026",
   "metadata": {},
   "outputs": [
    {
     "name": "stdout",
     "output_type": "stream",
     "text": [
      "Number of features: 10\n",
      "Feature names: ['satisfaction_level', 'last_evaluation', 'number_project', 'average_montly_hours', 'time_spend_company', 'work_accident', 'left', 'promotion_last_5years', 'is_smoker', 'department']\n"
     ]
    }
   ],
   "source": [
    "# Get the number of features and their names\n",
    "num_features = num_columns - 1  # Excluding the target column ('left')\n",
    "feature_names = column_names[:-1]\n",
    "print(\"Number of features:\", num_features)\n",
    "print(\"Feature names:\", feature_names)"
   ]
  },
  {
   "cell_type": "code",
   "execution_count": 7,
   "id": "c9c82c81-2d93-4f5c-a334-59f56ed0898b",
   "metadata": {},
   "outputs": [
    {
     "name": "stdout",
     "output_type": "stream",
     "text": [
      "Number of duplicates: 2840\n",
      "Duplicates removed.\n"
     ]
    }
   ],
   "source": [
    "# Check for duplicates\n",
    "num_duplicates = data.duplicated().sum()\n",
    "if num_duplicates > 0:\n",
    "    print(\"Number of duplicates:\", num_duplicates)\n",
    "    data.drop_duplicates(inplace=True)\n",
    "    print(\"Duplicates removed.\")\n",
    "else:\n",
    "    print(\"No duplicates found.\")"
   ]
  },
  {
   "cell_type": "code",
   "execution_count": 8,
   "id": "e4543e3f-f607-4078-9139-9193ee4647b4",
   "metadata": {},
   "outputs": [
    {
     "name": "stdout",
     "output_type": "stream",
     "text": [
      "                         count unique    top   freq        mean       std  \\\n",
      "satisfaction_level     12259.0    NaN    NaN    NaN    0.628149  0.241893   \n",
      "last_evaluation        12259.0    NaN    NaN    NaN    0.716666  0.168627   \n",
      "number_project         12259.0    NaN    NaN    NaN    3.804389  1.170172   \n",
      "average_montly_hours   11891.0    NaN    NaN    NaN  200.511732  48.84344   \n",
      "time_spend_company     12109.0    NaN    NaN    NaN    3.380048  1.356414   \n",
      "work_accident          12259.0    NaN    NaN    NaN    0.153928  0.360894   \n",
      "left                     12259      2     no  10144         NaN       NaN   \n",
      "promotion_last_5years  12259.0    NaN    NaN    NaN    0.016886  0.128848   \n",
      "is_smoker                  235      2     no    180         NaN       NaN   \n",
      "department               12259     10  sales   3321         NaN       NaN   \n",
      "salary                   12259      3    low   5872         NaN       NaN   \n",
      "\n",
      "                        min    25%    50%    75%    max  \n",
      "satisfaction_level     0.09   0.48   0.66   0.82    1.0  \n",
      "last_evaluation        0.36   0.57   0.72   0.86    1.0  \n",
      "number_project          2.0    3.0    4.0    5.0    7.0  \n",
      "average_montly_hours   96.0  157.0  200.0  243.0  310.0  \n",
      "time_spend_company      2.0    3.0    3.0    4.0   10.0  \n",
      "work_accident           0.0    0.0    0.0    0.0    1.0  \n",
      "left                    NaN    NaN    NaN    NaN    NaN  \n",
      "promotion_last_5years   0.0    0.0    0.0    0.0    1.0  \n",
      "is_smoker               NaN    NaN    NaN    NaN    NaN  \n",
      "department              NaN    NaN    NaN    NaN    NaN  \n",
      "salary                  NaN    NaN    NaN    NaN    NaN  \n"
     ]
    }
   ],
   "source": [
    "# Print the distributions of each feature\n",
    "feature_distributions = data.describe(include='all').T\n",
    "print(feature_distributions)"
   ]
  },
  {
   "cell_type": "code",
   "execution_count": 9,
   "id": "e24c0d3a-47c2-4fa8-aeb5-7c5e6ff321d1",
   "metadata": {},
   "outputs": [
    {
     "name": "stdout",
     "output_type": "stream",
     "text": [
      "Number of missing values: 12542\n",
      "Features with missing values: ['average_montly_hours', 'time_spend_company', 'is_smoker']\n"
     ]
    }
   ],
   "source": [
    "# Check for missing values\n",
    "num_missing_values = data.isnull().sum().sum()\n",
    "missing_features = data.columns[data.isnull().any()].tolist()\n",
    "print(\"Number of missing values:\", num_missing_values)\n",
    "print(\"Features with missing values:\", missing_features)"
   ]
  },
  {
   "cell_type": "code",
   "execution_count": 10,
   "id": "2c6c2be9-e36e-46a1-8185-e1c5e5102c4d",
   "metadata": {},
   "outputs": [
    {
     "name": "stdout",
     "output_type": "stream",
     "text": [
      "Feature with the largest number of missing values: is_smoker\n",
      "Feature with the largest number of missing values dropped: is_smoker\n",
      "Missing values filled with mean for numeric columns.\n"
     ]
    }
   ],
   "source": [
    "# Identify the feature with the largest number of missing values\n",
    "feature_with_most_missing = data.isnull().sum().idxmax()\n",
    "print(\"Feature with the largest number of missing values:\", feature_with_most_missing)\n",
    "\n",
    "# Drop the feature with the largest number of missing values\n",
    "data.drop(columns=feature_with_most_missing, inplace=True)\n",
    "print(\"Feature with the largest number of missing values dropped:\", feature_with_most_missing)\n",
    "\n",
    "# Fill missing values with the mean of numeric columns\n",
    "numeric_columns = data.select_dtypes(include='number').columns\n",
    "data[numeric_columns] = data[numeric_columns].fillna(data[numeric_columns].mean())\n",
    "print(\"Missing values filled with mean for numeric columns.\")"
   ]
  },
  {
   "cell_type": "code",
   "execution_count": 11,
   "id": "11572802-e2af-418b-b0ed-877a5812c4a5",
   "metadata": {},
   "outputs": [
    {
     "name": "stdout",
     "output_type": "stream",
     "text": [
      "Number of missing values after fill: 0\n"
     ]
    }
   ],
   "source": [
    "# Check for missing values again\n",
    "num_missing_values_after_fill = data.isnull().sum().sum()\n",
    "print(\"Number of missing values after fill:\", num_missing_values_after_fill)"
   ]
  },
  {
   "cell_type": "code",
   "execution_count": 12,
   "id": "ebc696bb-f528-4d09-bed3-ddadaa1fe148",
   "metadata": {},
   "outputs": [],
   "source": [
    "# Convert 'yes' and 'no' values in 'left' column to 1 and 0\n",
    "data['left'] = data['left'].map({'yes': 1, 'no': 0})"
   ]
  },
  {
   "cell_type": "code",
   "execution_count": 13,
   "id": "510e5e3e-4e63-4fe8-bdb4-ada8bbe646ae",
   "metadata": {},
   "outputs": [],
   "source": [
    "# Save the resulting data into a file\n",
    "data.to_csv('p1_data.csv', index=False)"
   ]
  },
  {
   "cell_type": "code",
   "execution_count": 14,
   "id": "3afe87d2-2213-4e00-86fe-8820daf7cbd4",
   "metadata": {},
   "outputs": [
    {
     "name": "stdout",
     "output_type": "stream",
     "text": [
      "Number of samples in training set: 9807\n",
      "Number of samples in test set: 2452\n",
      "Number of samples in stratified training set: 9807\n",
      "Number of samples in stratified test set: 2452\n"
     ]
    }
   ],
   "source": [
    "# Divide the data into training set (80%) and test set (20%)\n",
    "X = data.drop(columns=['left'])\n",
    "y = data['left']\n",
    "X_train, X_test, y_train, y_test = train_test_split(X, y, test_size=0.2, random_state=42)\n",
    "\n",
    "# Number of data points in each set\n",
    "num_train_samples = X_train.shape[0]\n",
    "num_test_samples = X_test.shape[0]\n",
    "print(\"Number of samples in training set:\", num_train_samples)\n",
    "print(\"Number of samples in test set:\", num_test_samples)\n",
    "\n",
    "# Stratified sampling based on the ratio of \"yes\" and \"no\" values of the target variable 'left'\n",
    "X_train_strat, X_test_strat, y_train_strat, y_test_strat = train_test_split(X, y, test_size=0.2, stratify=y, random_state=42)\n",
    "\n",
    "# Number of data points in each set (stratified)\n",
    "num_train_samples_strat = X_train_strat.shape[0]\n",
    "num_test_samples_strat = X_test_strat.shape[0]\n",
    "print(\"Number of samples in stratified training set:\", num_train_samples_strat)\n",
    "print(\"Number of samples in stratified test set:\", num_test_samples_strat)"
   ]
  },
  {
   "cell_type": "code",
   "execution_count": null,
   "id": "974bff14-56b0-4e9b-9df3-b0454e621f6a",
   "metadata": {},
   "outputs": [],
   "source": []
  }
 ],
 "metadata": {
  "kernelspec": {
   "display_name": "Python 3 (ipykernel)",
   "language": "python",
   "name": "python3"
  },
  "language_info": {
   "codemirror_mode": {
    "name": "ipython",
    "version": 3
   },
   "file_extension": ".py",
   "mimetype": "text/x-python",
   "name": "python",
   "nbconvert_exporter": "python",
   "pygments_lexer": "ipython3",
   "version": "3.12.0"
  }
 },
 "nbformat": 4,
 "nbformat_minor": 5
}
