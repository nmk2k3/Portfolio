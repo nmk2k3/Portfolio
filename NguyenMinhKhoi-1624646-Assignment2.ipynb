{
 "cells": [
  {
   "cell_type": "code",
   "execution_count": 2,
   "id": "4d3e9dde-2ef3-4011-8497-81c0fc82447c",
   "metadata": {},
   "outputs": [],
   "source": [
    "import numpy as np\n",
    "import pandas as pd\n",
    "from sklearn.preprocessing import OneHotEncoder, LabelEncoder\n",
    "\n",
    "data = pd.read_csv(\"p1_data.csv\")\n",
    "\n",
    "enc_data = pd.DataFrame()\n",
    "\n",
    "label_enc_col = (\"department\",\"salary\")\\\n",
    "\n",
    "for column in data.columns:\n",
    "    if column in label_enc_col:\n",
    "      enc = LabelEncoder()\n",
    "      enc_col = enc.fit_transform(data[column])\n",
    "      enc_data[column]=enc_col\n",
    "    elif column != \"left\":\n",
    "      enc = OneHotEncoder()\n",
    "      enc_col = enc.fit_transform(data[column].values.reshape(-1,1)).toarray()\n",
    "      col_name = [f\"{column}_{i}\" for i in range(enc_col.shape[1])]\n",
    "      enc_data = pd.concat([enc_data, pd.DataFrame(enc_col, columns=col_name)], axis=1)\n",
    "    else :\n",
    "      enc_data[column] = data[column]\n",
    "\n",
    "enc_data.to_csv(\"encodeddata.csv\",index=False )"
   ]
  },
  {
   "cell_type": "code",
   "execution_count": 3,
   "id": "e49f2eb1-e2dd-460b-bb8a-5133d71530e4",
   "metadata": {},
   "outputs": [
    {
     "name": "stdout",
     "output_type": "stream",
     "text": [
      "Training:  0.85\n",
      "Testing:  0.15\n",
      "Precision: 0.8905109489051095\n",
      "Recall: 0.7305389221556886\n",
      "F1 Score: 0.8026315789473684\n",
      "Confusion Matrix:\n",
      "[[1475   30]\n",
      " [  90  244]]\n",
      "Training:  0.75\n",
      "Testing:  0.25\n",
      "Precision: 0.8523206751054853\n",
      "Recall: 0.7579737335834896\n",
      "F1 Score: 0.8023833167825224\n",
      "Confusion Matrix:\n",
      "[[2462   70]\n",
      " [ 129  404]]\n",
      "Training:  0.65\n",
      "Testing:  0.35\n",
      "Precision: 0.821656050955414\n",
      "Recall: 0.8634538152610441\n",
      "F1 Score: 0.8420365535248042\n",
      "Confusion Matrix:\n",
      "[[3404  140]\n",
      " [ 102  645]]\n"
     ]
    }
   ],
   "source": [
    "from sklearn.linear_model import SGDClassifier\n",
    "from sklearn.model_selection import cross_val_predict, train_test_split, KFold \n",
    "from sklearn.metrics import precision_score,  confusion_matrix, recall_score, f1_score\n",
    "\n",
    "shuffled_data = enc_data.iloc[np.random.permutation(len(enc_data))]\n",
    "\n",
    "# Separate features and target variable\n",
    "X = shuffled_data.drop(\"left\", axis=1).values\n",
    "Y = shuffled_data[\"left\"].values\n",
    "\n",
    "classifier=SGDClassifier(random_state = 42)\n",
    "\n",
    "kf=KFold(n_splits=5, shuffle=True, random_state=42)\n",
    "\n",
    "train_test_percentage = [(0.85,0.15),(0.75,0.25),(0.65,0.35)]\n",
    "\n",
    "for train_percentage, test_percentage in train_test_percentage:\n",
    "  X_train, X_test, Y_train, Y_test = train_test_split(X, Y, test_size=test_percentage, random_state=42)\n",
    "\n",
    "  Y_pred = cross_val_predict(classifier, X_test, Y_test, cv=kf)\n",
    "\n",
    "  precision = precision_score(Y_test, Y_pred)\n",
    "\n",
    "  recall = recall_score(Y_test, Y_pred)\n",
    "\n",
    "  f1 = f1_score(Y_test, Y_pred)\n",
    "\n",
    "  confusion_mat = confusion_matrix(Y_test, Y_pred)\n",
    "\n",
    "  print(\"Training: \", train_percentage)\n",
    "  print(\"Testing: \", test_percentage)\n",
    "  print(\"Precision:\", precision)\n",
    "  print(\"Recall:\", recall)\n",
    "  print(\"F1 Score:\", f1)\n",
    "  print(\"Confusion Matrix:\")\n",
    "  print(confusion_mat)"
   ]
  },
  {
   "cell_type": "code",
   "execution_count": null,
   "id": "0c2d653d-f0ed-48c7-8b40-f5bae6fff807",
   "metadata": {},
   "outputs": [],
   "source": []
  }
 ],
 "metadata": {
  "kernelspec": {
   "display_name": "Python 3 (ipykernel)",
   "language": "python",
   "name": "python3"
  },
  "language_info": {
   "codemirror_mode": {
    "name": "ipython",
    "version": 3
   },
   "file_extension": ".py",
   "mimetype": "text/x-python",
   "name": "python",
   "nbconvert_exporter": "python",
   "pygments_lexer": "ipython3",
   "version": "3.12.0"
  }
 },
 "nbformat": 4,
 "nbformat_minor": 5
}
