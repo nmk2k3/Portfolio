{
 "cells": [
  {
   "cell_type": "code",
   "execution_count": 3,
   "id": "98c8179e-e769-4f7c-a9fa-59dcfb0a2915",
   "metadata": {},
   "outputs": [
    {
     "name": "stdout",
     "output_type": "stream",
     "text": [
      "SVC 1.0\n",
      "LogisticRegression 1.0\n",
      "KNeighborsClassifier 1.0\n",
      "VotingClassifier 1.0\n"
     ]
    }
   ],
   "source": [
    "from sklearn.datasets import load_iris\n",
    "from sklearn.model_selection import train_test_split\n",
    "from sklearn.preprocessing import StandardScaler\n",
    "from sklearn.metrics import accuracy_score\n",
    "from sklearn.svm import SVC\n",
    "from sklearn.linear_model import LogisticRegression\n",
    "from sklearn.neighbors import KNeighborsClassifier\n",
    "from sklearn.ensemble import VotingClassifier\n",
    "\n",
    "# Load the dataset\n",
    "iris = load_iris()\n",
    "X, y = iris.data, iris.target\n",
    "\n",
    "# Convert to binary classification problem (Iris-Virginica vs. others)\n",
    "y = (y == 2).astype(int)\n",
    "\n",
    "# Split the dataset into training and testing sets\n",
    "X_train, X_test, y_train, y_test = train_test_split(X, y, test_size=0.3, random_state=42)\n",
    "\n",
    "# Standardize the features\n",
    "scaler = StandardScaler()\n",
    "X_train_scaled = scaler.fit_transform(X_train)\n",
    "X_test_scaled = scaler.transform(X_test)\n",
    "\n",
    "# Initialize individual classifiers\n",
    "svm_clf = SVC(probability=True, random_state=42)\n",
    "log_clf = LogisticRegression(random_state=42)\n",
    "knn_clf = KNeighborsClassifier()\n",
    "\n",
    "# Train the individual classifiers\n",
    "svm_clf.fit(X_train_scaled, y_train)\n",
    "log_clf.fit(X_train_scaled, y_train)\n",
    "knn_clf.fit(X_train_scaled, y_train)\n",
    "\n",
    "# Create ensemble classifier\n",
    "voting_clf = VotingClassifier(\n",
    "    estimators=[('lr', log_clf), ('svc', svm_clf), ('knn', knn_clf)],\n",
    "    voting='soft'\n",
    ")\n",
    "\n",
    "# Train the ensemble classifier\n",
    "voting_clf.fit(X_train_scaled, y_train)\n",
    "\n",
    "# Evaluate the classifiers\n",
    "for clf in (svm_clf, log_clf, knn_clf, voting_clf):\n",
    "    y_pred = clf.predict(X_test_scaled)\n",
    "    print(clf.__class__.__name__, accuracy_score(y_test, y_pred))"
   ]
  },
  {
   "cell_type": "code",
   "execution_count": 4,
   "id": "2b92acf9-70fe-4b8f-8e16-12aede08d4bc",
   "metadata": {},
   "outputs": [
    {
     "name": "stdout",
     "output_type": "stream",
     "text": [
      "Perceptron 1.0\n"
     ]
    }
   ],
   "source": [
    "from sklearn.linear_model import Perceptron\n",
    "\n",
    "# Initialize and train the perceptron\n",
    "perceptron_clf = Perceptron(random_state=42)\n",
    "perceptron_clf.fit(X_train_scaled, y_train)\n",
    "\n",
    "# Predict and evaluate the perceptron\n",
    "y_pred_perceptron = perceptron_clf.predict(X_test_scaled)\n",
    "print('Perceptron', accuracy_score(y_test, y_pred_perceptron))"
   ]
  },
  {
   "cell_type": "code",
   "execution_count": null,
   "id": "6988489b-986a-4949-b847-33a3d511f19c",
   "metadata": {},
   "outputs": [],
   "source": []
  }
 ],
 "metadata": {
  "kernelspec": {
   "display_name": "Python 3 (ipykernel)",
   "language": "python",
   "name": "python3"
  },
  "language_info": {
   "codemirror_mode": {
    "name": "ipython",
    "version": 3
   },
   "file_extension": ".py",
   "mimetype": "text/x-python",
   "name": "python",
   "nbconvert_exporter": "python",
   "pygments_lexer": "ipython3",
   "version": "3.12.0"
  }
 },
 "nbformat": 4,
 "nbformat_minor": 5
}
